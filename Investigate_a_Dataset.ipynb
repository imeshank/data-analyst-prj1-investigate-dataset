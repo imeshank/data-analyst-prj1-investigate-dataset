{
 "cells": [
  {
   "cell_type": "markdown",
   "metadata": {},
   "source": [
    "\n",
    "# Project: TMDb Movie Data Analysis\n",
    "\n",
    "## Table of Contents\n",
    "<ul>\n",
    "<li><a href=\"#intro\">Introduction</a></li>\n",
    "<li><a href=\"#wrangling\">Data Wrangling</a></li>\n",
    "<li><a href=\"#eda\">Exploratory Data Analysis</a></li>\n",
    "<li><a href=\"#conclusions\">Conclusions</a></li>\n",
    "</ul>"
   ]
  },
  {
   "cell_type": "markdown",
   "metadata": {},
   "source": [
    "<a id='intro'></a>\n",
    "## Introduction\n",
    "\n",
    "> In this project, we'll be analyzing data associated with 10,000 movies collected from The Movie Database (TMDb). This dataset includes movie basic data such as title, director, runtime, budget, genres, cast, release date and, movie metrics such as popularity, user rating. In particular, we'll be interested in finding trends among the movies with high revenue and high popularity. And also find how the movie economy and features changed from 1960 to 2015. Finally, we'll be able to find the characteristics of a successful movie.\n",
    "\n",
    "> Research Questions:\n",
    "1. What are the highest revenue and lowest revenue movies?\n",
    "2. What are the highest and lowest popularity movies?\n",
    "3. What kinds of properties are associated with movies that have high revenues? <br/>\n",
    "    1.1 Do higher revenue movies receive higher popularity?<br/>\n",
    "    1.2 Do higher revenue movies always have a higher budget?<br/>\n",
    "    1.3 What is the average runtime for higher and lower revenue movies?<br/>\n",
    "    1.4 Do higher revenue movies always get higher vote count?<br/>\n",
    "4. Which genres are most popular from 2010 to 2015? \n",
    "5. What are the frequently used top 5 genres in movies from 1960 to 2015?\n",
    "6. Top 5 Genres, Directors and, Casts in movies with high revenue? \n",
    "7. Top 5 Genres, Directors and, Casts in most popular movies?\n",
    "8. How much have the movie economy has improved by each year?\n",
    "9. Is there a relationship between the runtime of a movie and popularity?\n",
    "10. What is the trend of the average runtime of movies from year to year?\n",
    "11. Which year has released the most number of movies?\n",
    "12. What is the best month to release a movie?"
   ]
  },
  {
   "cell_type": "code",
   "execution_count": 122,
   "metadata": {},
   "outputs": [],
   "source": [
    "# import packages\n",
    "import pandas as pd\n",
    "import numpy as np\n",
    "import matplotlib.pyplot as plt\n",
    "import seaborn as sns\n",
    "\n",
    "% matplotlib inline"
   ]
  },
  {
   "cell_type": "markdown",
   "metadata": {},
   "source": [
    "<a id='wrangling'></a>\n",
    "## Data Wrangling\n",
    "\n",
    "> In this section, we'll check the raw dataset and identity the general properties associated with the raw dataset. According to our observations, in the 'Data Cleaning ' section, we'll be transforming the dataset to a more desired form with the intent of making it more appropriate for our analysis.\n",
    "\n",
    "### General Properties"
   ]
  },
  {
   "cell_type": "code",
   "execution_count": 123,
   "metadata": {},
   "outputs": [
    {
     "data": {
      "text/html": [
       "<div>\n",
       "<style scoped>\n",
       "    .dataframe tbody tr th:only-of-type {\n",
       "        vertical-align: middle;\n",
       "    }\n",
       "\n",
       "    .dataframe tbody tr th {\n",
       "        vertical-align: top;\n",
       "    }\n",
       "\n",
       "    .dataframe thead th {\n",
       "        text-align: right;\n",
       "    }\n",
       "</style>\n",
       "<table border=\"1\" class=\"dataframe\">\n",
       "  <thead>\n",
       "    <tr style=\"text-align: right;\">\n",
       "      <th></th>\n",
       "      <th>id</th>\n",
       "      <th>imdb_id</th>\n",
       "      <th>popularity</th>\n",
       "      <th>budget</th>\n",
       "      <th>revenue</th>\n",
       "      <th>original_title</th>\n",
       "      <th>cast</th>\n",
       "      <th>homepage</th>\n",
       "      <th>director</th>\n",
       "      <th>tagline</th>\n",
       "      <th>...</th>\n",
       "      <th>overview</th>\n",
       "      <th>runtime</th>\n",
       "      <th>genres</th>\n",
       "      <th>production_companies</th>\n",
       "      <th>release_date</th>\n",
       "      <th>vote_count</th>\n",
       "      <th>vote_average</th>\n",
       "      <th>release_year</th>\n",
       "      <th>budget_adj</th>\n",
       "      <th>revenue_adj</th>\n",
       "    </tr>\n",
       "  </thead>\n",
       "  <tbody>\n",
       "    <tr>\n",
       "      <th>0</th>\n",
       "      <td>135397</td>\n",
       "      <td>tt0369610</td>\n",
       "      <td>32.985763</td>\n",
       "      <td>150000000</td>\n",
       "      <td>1513528810</td>\n",
       "      <td>Jurassic World</td>\n",
       "      <td>Chris Pratt|Bryce Dallas Howard|Irrfan Khan|Vi...</td>\n",
       "      <td>http://www.jurassicworld.com/</td>\n",
       "      <td>Colin Trevorrow</td>\n",
       "      <td>The park is open.</td>\n",
       "      <td>...</td>\n",
       "      <td>Twenty-two years after the events of Jurassic ...</td>\n",
       "      <td>124</td>\n",
       "      <td>Action|Adventure|Science Fiction|Thriller</td>\n",
       "      <td>Universal Studios|Amblin Entertainment|Legenda...</td>\n",
       "      <td>6/9/15</td>\n",
       "      <td>5562</td>\n",
       "      <td>6.5</td>\n",
       "      <td>2015</td>\n",
       "      <td>1.379999e+08</td>\n",
       "      <td>1.392446e+09</td>\n",
       "    </tr>\n",
       "    <tr>\n",
       "      <th>1</th>\n",
       "      <td>76341</td>\n",
       "      <td>tt1392190</td>\n",
       "      <td>28.419936</td>\n",
       "      <td>150000000</td>\n",
       "      <td>378436354</td>\n",
       "      <td>Mad Max: Fury Road</td>\n",
       "      <td>Tom Hardy|Charlize Theron|Hugh Keays-Byrne|Nic...</td>\n",
       "      <td>http://www.madmaxmovie.com/</td>\n",
       "      <td>George Miller</td>\n",
       "      <td>What a Lovely Day.</td>\n",
       "      <td>...</td>\n",
       "      <td>An apocalyptic story set in the furthest reach...</td>\n",
       "      <td>120</td>\n",
       "      <td>Action|Adventure|Science Fiction|Thriller</td>\n",
       "      <td>Village Roadshow Pictures|Kennedy Miller Produ...</td>\n",
       "      <td>5/13/15</td>\n",
       "      <td>6185</td>\n",
       "      <td>7.1</td>\n",
       "      <td>2015</td>\n",
       "      <td>1.379999e+08</td>\n",
       "      <td>3.481613e+08</td>\n",
       "    </tr>\n",
       "  </tbody>\n",
       "</table>\n",
       "<p>2 rows × 21 columns</p>\n",
       "</div>"
      ],
      "text/plain": [
       "       id    imdb_id  popularity     budget     revenue      original_title  \\\n",
       "0  135397  tt0369610   32.985763  150000000  1513528810      Jurassic World   \n",
       "1   76341  tt1392190   28.419936  150000000   378436354  Mad Max: Fury Road   \n",
       "\n",
       "                                                cast  \\\n",
       "0  Chris Pratt|Bryce Dallas Howard|Irrfan Khan|Vi...   \n",
       "1  Tom Hardy|Charlize Theron|Hugh Keays-Byrne|Nic...   \n",
       "\n",
       "                        homepage         director             tagline  \\\n",
       "0  http://www.jurassicworld.com/  Colin Trevorrow   The park is open.   \n",
       "1    http://www.madmaxmovie.com/    George Miller  What a Lovely Day.   \n",
       "\n",
       "       ...                                                overview runtime  \\\n",
       "0      ...       Twenty-two years after the events of Jurassic ...     124   \n",
       "1      ...       An apocalyptic story set in the furthest reach...     120   \n",
       "\n",
       "                                      genres  \\\n",
       "0  Action|Adventure|Science Fiction|Thriller   \n",
       "1  Action|Adventure|Science Fiction|Thriller   \n",
       "\n",
       "                                production_companies release_date vote_count  \\\n",
       "0  Universal Studios|Amblin Entertainment|Legenda...       6/9/15       5562   \n",
       "1  Village Roadshow Pictures|Kennedy Miller Produ...      5/13/15       6185   \n",
       "\n",
       "   vote_average  release_year    budget_adj   revenue_adj  \n",
       "0           6.5          2015  1.379999e+08  1.392446e+09  \n",
       "1           7.1          2015  1.379999e+08  3.481613e+08  \n",
       "\n",
       "[2 rows x 21 columns]"
      ]
     },
     "execution_count": 123,
     "metadata": {},
     "output_type": "execute_result"
    }
   ],
   "source": [
    "# Loading data and print first two lines\n",
    "tmdb_df = pd.read_csv('tmdb-movies.csv')\n",
    "tmdb_df.head(2)"
   ]
  },
  {
   "cell_type": "code",
   "execution_count": 124,
   "metadata": {},
   "outputs": [
    {
     "name": "stdout",
     "output_type": "stream",
     "text": [
      "This dataset contains 10866 rows and 21 columns\n"
     ]
    }
   ],
   "source": [
    "# finding the size of the dataset\n",
    "tmdb_df.shape\n",
    "print('This dataset contains {} rows and {} columns'.format(tmdb_df.shape[0], tmdb_df.shape[1]))"
   ]
  },
  {
   "cell_type": "code",
   "execution_count": 125,
   "metadata": {
    "scrolled": true
   },
   "outputs": [
    {
     "name": "stdout",
     "output_type": "stream",
     "text": [
      "<class 'pandas.core.frame.DataFrame'>\n",
      "RangeIndex: 10866 entries, 0 to 10865\n",
      "Data columns (total 21 columns):\n",
      "id                      10866 non-null int64\n",
      "imdb_id                 10856 non-null object\n",
      "popularity              10866 non-null float64\n",
      "budget                  10866 non-null int64\n",
      "revenue                 10866 non-null int64\n",
      "original_title          10866 non-null object\n",
      "cast                    10790 non-null object\n",
      "homepage                2936 non-null object\n",
      "director                10822 non-null object\n",
      "tagline                 8042 non-null object\n",
      "keywords                9373 non-null object\n",
      "overview                10862 non-null object\n",
      "runtime                 10866 non-null int64\n",
      "genres                  10843 non-null object\n",
      "production_companies    9836 non-null object\n",
      "release_date            10866 non-null object\n",
      "vote_count              10866 non-null int64\n",
      "vote_average            10866 non-null float64\n",
      "release_year            10866 non-null int64\n",
      "budget_adj              10866 non-null float64\n",
      "revenue_adj             10866 non-null float64\n",
      "dtypes: float64(4), int64(6), object(11)\n",
      "memory usage: 1.7+ MB\n"
     ]
    }
   ],
   "source": [
    "# finding the dataset information- missing values, data types\n",
    "tmdb_df.info()"
   ]
  },
  {
   "cell_type": "markdown",
   "metadata": {},
   "source": [
    "> Observations:\n",
    "    * imdb_id, cast, homepage, director, tagline, keywords, overview, genres, production_companies columns have null values.\n",
    "    * Considering the datatypes, it seems only 'release date' column has the wrong date-type. \n"
   ]
  },
  {
   "cell_type": "code",
   "execution_count": 126,
   "metadata": {},
   "outputs": [
    {
     "name": "stdout",
     "output_type": "stream",
     "text": [
      "release_date column datatype is <class 'str'>\n"
     ]
    }
   ],
   "source": [
    "#checking the release_date datatype. \n",
    "data_type = type(tmdb_df['release_date'][1])\n",
    "print('release_date column datatype is {}'.format(data_type))"
   ]
  },
  {
   "cell_type": "code",
   "execution_count": 127,
   "metadata": {},
   "outputs": [
    {
     "data": {
      "text/plain": [
       "id                         0\n",
       "imdb_id                   10\n",
       "popularity                 0\n",
       "budget                     0\n",
       "revenue                    0\n",
       "original_title             0\n",
       "cast                      76\n",
       "homepage                7930\n",
       "director                  44\n",
       "tagline                 2824\n",
       "keywords                1493\n",
       "overview                   4\n",
       "runtime                    0\n",
       "genres                    23\n",
       "production_companies    1030\n",
       "release_date               0\n",
       "vote_count                 0\n",
       "vote_average               0\n",
       "release_year               0\n",
       "budget_adj                 0\n",
       "revenue_adj                0\n",
       "dtype: int64"
      ]
     },
     "execution_count": 127,
     "metadata": {},
     "output_type": "execute_result"
    }
   ],
   "source": [
    "#checking number of null values in each column\n",
    "tmdb_df.isnull().sum()"
   ]
  },
  {
   "cell_type": "markdown",
   "metadata": {},
   "source": [
    "> Observations:\n",
    "    * homepage, tagline, keywords, production_companies has considerable amount (more than 1000) of null values. \n",
    "    * imdb_id, cast, director, genres, overview  have less than 100 null values.\n"
   ]
  },
  {
   "cell_type": "code",
   "execution_count": 128,
   "metadata": {},
   "outputs": [
    {
     "name": "stdout",
     "output_type": "stream",
     "text": [
      "This dataset have 13434 null values.\n"
     ]
    }
   ],
   "source": [
    "#checking the total number of null values in the dataset\n",
    "total_null = tmdb_df.isnull().sum().sum()\n",
    "print('This dataset have {} null values.'.format(total_null))"
   ]
  },
  {
   "cell_type": "code",
   "execution_count": 129,
   "metadata": {},
   "outputs": [
    {
     "name": "stdout",
     "output_type": "stream",
     "text": [
      "Number of duplicate rows in the dataset: 1.\n"
     ]
    }
   ],
   "source": [
    "# finding duplicate rows\n",
    "duplicate_rows_count = sum(tmdb_df.duplicated())\n",
    "print('Number of duplicate rows in the dataset: {}.'.format(duplicate_rows_count))"
   ]
  },
  {
   "cell_type": "code",
   "execution_count": 130,
   "metadata": {},
   "outputs": [
    {
     "data": {
      "text/plain": [
       "id                      10865\n",
       "imdb_id                 10855\n",
       "popularity              10814\n",
       "budget                    557\n",
       "revenue                  4702\n",
       "original_title          10571\n",
       "cast                    10719\n",
       "homepage                 2896\n",
       "director                 5067\n",
       "tagline                  7997\n",
       "keywords                 8804\n",
       "overview                10847\n",
       "runtime                   247\n",
       "genres                   2039\n",
       "production_companies     7445\n",
       "release_date             5909\n",
       "vote_count               1289\n",
       "vote_average               72\n",
       "release_year               56\n",
       "budget_adj               2614\n",
       "revenue_adj              4840\n",
       "dtype: int64"
      ]
     },
     "execution_count": 130,
     "metadata": {},
     "output_type": "execute_result"
    }
   ],
   "source": [
    "#finding number of unique values in each column\n",
    "tmdb_df.nunique()"
   ]
  },
  {
   "cell_type": "markdown",
   "metadata": {},
   "source": [
    "> Observation;\n",
    "    * Two rows have same id number\n",
    "    * Non of the columns contain one value for all rows"
   ]
  },
  {
   "cell_type": "code",
   "execution_count": 131,
   "metadata": {
    "scrolled": true
   },
   "outputs": [
    {
     "data": {
      "text/html": [
       "<div>\n",
       "<style scoped>\n",
       "    .dataframe tbody tr th:only-of-type {\n",
       "        vertical-align: middle;\n",
       "    }\n",
       "\n",
       "    .dataframe tbody tr th {\n",
       "        vertical-align: top;\n",
       "    }\n",
       "\n",
       "    .dataframe thead th {\n",
       "        text-align: right;\n",
       "    }\n",
       "</style>\n",
       "<table border=\"1\" class=\"dataframe\">\n",
       "  <thead>\n",
       "    <tr style=\"text-align: right;\">\n",
       "      <th></th>\n",
       "      <th>id</th>\n",
       "      <th>popularity</th>\n",
       "      <th>budget</th>\n",
       "      <th>revenue</th>\n",
       "      <th>runtime</th>\n",
       "      <th>vote_count</th>\n",
       "      <th>vote_average</th>\n",
       "      <th>release_year</th>\n",
       "      <th>budget_adj</th>\n",
       "      <th>revenue_adj</th>\n",
       "    </tr>\n",
       "  </thead>\n",
       "  <tbody>\n",
       "    <tr>\n",
       "      <th>count</th>\n",
       "      <td>10866.000000</td>\n",
       "      <td>10866.000000</td>\n",
       "      <td>1.086600e+04</td>\n",
       "      <td>1.086600e+04</td>\n",
       "      <td>10866.000000</td>\n",
       "      <td>10866.000000</td>\n",
       "      <td>10866.000000</td>\n",
       "      <td>10866.000000</td>\n",
       "      <td>1.086600e+04</td>\n",
       "      <td>1.086600e+04</td>\n",
       "    </tr>\n",
       "    <tr>\n",
       "      <th>mean</th>\n",
       "      <td>66064.177434</td>\n",
       "      <td>0.646441</td>\n",
       "      <td>1.462570e+07</td>\n",
       "      <td>3.982332e+07</td>\n",
       "      <td>102.070863</td>\n",
       "      <td>217.389748</td>\n",
       "      <td>5.974922</td>\n",
       "      <td>2001.322658</td>\n",
       "      <td>1.755104e+07</td>\n",
       "      <td>5.136436e+07</td>\n",
       "    </tr>\n",
       "    <tr>\n",
       "      <th>std</th>\n",
       "      <td>92130.136561</td>\n",
       "      <td>1.000185</td>\n",
       "      <td>3.091321e+07</td>\n",
       "      <td>1.170035e+08</td>\n",
       "      <td>31.381405</td>\n",
       "      <td>575.619058</td>\n",
       "      <td>0.935142</td>\n",
       "      <td>12.812941</td>\n",
       "      <td>3.430616e+07</td>\n",
       "      <td>1.446325e+08</td>\n",
       "    </tr>\n",
       "    <tr>\n",
       "      <th>min</th>\n",
       "      <td>5.000000</td>\n",
       "      <td>0.000065</td>\n",
       "      <td>0.000000e+00</td>\n",
       "      <td>0.000000e+00</td>\n",
       "      <td>0.000000</td>\n",
       "      <td>10.000000</td>\n",
       "      <td>1.500000</td>\n",
       "      <td>1960.000000</td>\n",
       "      <td>0.000000e+00</td>\n",
       "      <td>0.000000e+00</td>\n",
       "    </tr>\n",
       "    <tr>\n",
       "      <th>25%</th>\n",
       "      <td>10596.250000</td>\n",
       "      <td>0.207583</td>\n",
       "      <td>0.000000e+00</td>\n",
       "      <td>0.000000e+00</td>\n",
       "      <td>90.000000</td>\n",
       "      <td>17.000000</td>\n",
       "      <td>5.400000</td>\n",
       "      <td>1995.000000</td>\n",
       "      <td>0.000000e+00</td>\n",
       "      <td>0.000000e+00</td>\n",
       "    </tr>\n",
       "    <tr>\n",
       "      <th>50%</th>\n",
       "      <td>20669.000000</td>\n",
       "      <td>0.383856</td>\n",
       "      <td>0.000000e+00</td>\n",
       "      <td>0.000000e+00</td>\n",
       "      <td>99.000000</td>\n",
       "      <td>38.000000</td>\n",
       "      <td>6.000000</td>\n",
       "      <td>2006.000000</td>\n",
       "      <td>0.000000e+00</td>\n",
       "      <td>0.000000e+00</td>\n",
       "    </tr>\n",
       "    <tr>\n",
       "      <th>75%</th>\n",
       "      <td>75610.000000</td>\n",
       "      <td>0.713817</td>\n",
       "      <td>1.500000e+07</td>\n",
       "      <td>2.400000e+07</td>\n",
       "      <td>111.000000</td>\n",
       "      <td>145.750000</td>\n",
       "      <td>6.600000</td>\n",
       "      <td>2011.000000</td>\n",
       "      <td>2.085325e+07</td>\n",
       "      <td>3.369710e+07</td>\n",
       "    </tr>\n",
       "    <tr>\n",
       "      <th>max</th>\n",
       "      <td>417859.000000</td>\n",
       "      <td>32.985763</td>\n",
       "      <td>4.250000e+08</td>\n",
       "      <td>2.781506e+09</td>\n",
       "      <td>900.000000</td>\n",
       "      <td>9767.000000</td>\n",
       "      <td>9.200000</td>\n",
       "      <td>2015.000000</td>\n",
       "      <td>4.250000e+08</td>\n",
       "      <td>2.827124e+09</td>\n",
       "    </tr>\n",
       "  </tbody>\n",
       "</table>\n",
       "</div>"
      ],
      "text/plain": [
       "                  id    popularity        budget       revenue       runtime  \\\n",
       "count   10866.000000  10866.000000  1.086600e+04  1.086600e+04  10866.000000   \n",
       "mean    66064.177434      0.646441  1.462570e+07  3.982332e+07    102.070863   \n",
       "std     92130.136561      1.000185  3.091321e+07  1.170035e+08     31.381405   \n",
       "min         5.000000      0.000065  0.000000e+00  0.000000e+00      0.000000   \n",
       "25%     10596.250000      0.207583  0.000000e+00  0.000000e+00     90.000000   \n",
       "50%     20669.000000      0.383856  0.000000e+00  0.000000e+00     99.000000   \n",
       "75%     75610.000000      0.713817  1.500000e+07  2.400000e+07    111.000000   \n",
       "max    417859.000000     32.985763  4.250000e+08  2.781506e+09    900.000000   \n",
       "\n",
       "         vote_count  vote_average  release_year    budget_adj   revenue_adj  \n",
       "count  10866.000000  10866.000000  10866.000000  1.086600e+04  1.086600e+04  \n",
       "mean     217.389748      5.974922   2001.322658  1.755104e+07  5.136436e+07  \n",
       "std      575.619058      0.935142     12.812941  3.430616e+07  1.446325e+08  \n",
       "min       10.000000      1.500000   1960.000000  0.000000e+00  0.000000e+00  \n",
       "25%       17.000000      5.400000   1995.000000  0.000000e+00  0.000000e+00  \n",
       "50%       38.000000      6.000000   2006.000000  0.000000e+00  0.000000e+00  \n",
       "75%      145.750000      6.600000   2011.000000  2.085325e+07  3.369710e+07  \n",
       "max     9767.000000      9.200000   2015.000000  4.250000e+08  2.827124e+09  "
      ]
     },
     "execution_count": 131,
     "metadata": {},
     "output_type": "execute_result"
    }
   ],
   "source": [
    "# finding basic statistics of all numerical columns\n",
    "tmdb_df.describe()"
   ]
  },
  {
   "cell_type": "markdown",
   "metadata": {},
   "source": [
    "\n",
    "   > Observations:\n",
    "       * In this dataset there are films released from 1960 - 2015\n",
    "       * There are zero values in budget, revenue and runtime columns (min value), which is not acceptable."
   ]
  },
  {
   "cell_type": "code",
   "execution_count": 132,
   "metadata": {},
   "outputs": [
    {
     "name": "stdout",
     "output_type": "stream",
     "text": [
      "total number of zero values in budget, revenue and runtime columns: \n",
      "budget     5696\n",
      "revenue    6016\n",
      "runtime      31\n",
      "dtype: int64\n"
     ]
    }
   ],
   "source": [
    "#finding number of zero values in budget, revenue and runtime columns\n",
    "zero_data = (tmdb_df[['budget', 'revenue', 'runtime']] == 0).sum()\n",
    "print('total number of zero values in budget, revenue and runtime columns: \\n{}'.format(zero_data))"
   ]
  },
  {
   "cell_type": "markdown",
   "metadata": {},
   "source": [
    "> Observation:\n",
    "    * budget column has 5696(52%) zero values, revenue column has 6016(55%) zero values and runtime column has 31 zero values.\n",
    "> The total number of rows in this data set is 10866. More than half of rows have zero values for budget(52%) and revenue(55%). If we remove these rows from the dataset then more than half of rows will be deleted. This will negatively impact the analysis. Therefore I decided to fill these zero values with column mean value. Because budget, revenue, and runtime values cannot be zero as all these movies have released."
   ]
  },
  {
   "cell_type": "code",
   "execution_count": 133,
   "metadata": {
    "scrolled": true
   },
   "outputs": [
    {
     "data": {
      "image/png": "[encoded data removed]",
      "text/plain": [
       "<matplotlib.figure.Figure at 0x7f21a8899630>"
      ]
     },
     "metadata": {
      "needs_background": "light"
     },
     "output_type": "display_data"
    }
   ],
   "source": [
    "# finding how data are distributed in the dataset graphically.\n",
    "tmdb_df.hist(figsize=(10,10));"
   ]
  },
  {
   "cell_type": "markdown",
   "metadata": {},
   "source": [
    "> Observation:\n",
    "    * budget, popularity, revenue, runtime, vote_count graphs are right skewed. release_year graph is left skewed."
   ]
  },
  {
   "cell_type": "markdown",
   "metadata": {},
   "source": [
    "### Data Cleaning"
   ]
  },
  {
   "cell_type": "markdown",
   "metadata": {},
   "source": [
    "> In this section, the dataset will be transformed into an appropriate format for intended data analysis. We'll be addressing the issues we have identified in the above section. Steps that have been used to clean data are given below, <br/>\n",
    " \n",
    "> Data cleaning steps \n",
    "    1. Drop columns which are not using in this analysis - id, imdb_id, homepage, tagline, keywords, overview, production_companies, vote_average, budget_adj, revenue_adj\n",
    "    2. Correct the 'release date' data type to 'datetime' format.\n",
    "    3. Remove duplicate rows\n",
    "    4. Fill zero values in the budget, revenue, and runtime columns with column mean value. \n",
    "    5. Drop rows with null values (null values exits only in cast(76), director(44) and genres(23) columns)"
   ]
  },
  {
   "cell_type": "code",
   "execution_count": 134,
   "metadata": {},
   "outputs": [],
   "source": [
    "# dropping unused columns in this analysis \n",
    "tmdb_df.drop(['id','imdb_id','homepage','tagline','keywords','overview', 'production_companies', 'vote_average','budget_adj','revenue_adj'], axis=1, inplace=True)"
   ]
  },
  {
   "cell_type": "code",
   "execution_count": 135,
   "metadata": {},
   "outputs": [
    {
     "name": "stdout",
     "output_type": "stream",
     "text": [
      "This dataset contains 10866 rows and 11 columns\n"
     ]
    }
   ],
   "source": [
    "# finding the size of the dataset\n",
    "tmdb_df.shape\n",
    "print('This dataset contains {} rows and {} columns'.format(tmdb_df.shape[0], tmdb_df.shape[1]))"
   ]
  },
  {
   "cell_type": "code",
   "execution_count": 136,
   "metadata": {},
   "outputs": [],
   "source": [
    "# changing release_date datatype to datetime from string object\n",
    "tmdb_df['release_date'] = pd.to_datetime(tmdb_df['release_date'])"
   ]
  },
  {
   "cell_type": "code",
   "execution_count": 137,
   "metadata": {},
   "outputs": [
    {
     "name": "stdout",
     "output_type": "stream",
     "text": [
      "release_date column datatype is <class 'pandas._libs.tslibs.timestamps.Timestamp'>\n"
     ]
    }
   ],
   "source": [
    "# checking the release_date datatype. New value should be timestamp \n",
    "data_type = type(tmdb_df['release_date'][1])\n",
    "print('release_date column datatype is {}'.format(data_type))"
   ]
  },
  {
   "cell_type": "code",
   "execution_count": 138,
   "metadata": {},
   "outputs": [],
   "source": [
    "# drop duplicate rows\n",
    "tmdb_df.drop_duplicates(inplace=True)"
   ]
  },
  {
   "cell_type": "code",
   "execution_count": 139,
   "metadata": {},
   "outputs": [
    {
     "name": "stdout",
     "output_type": "stream",
     "text": [
      "Number of duplicate rows in the dataset: 0.\n"
     ]
    }
   ],
   "source": [
    "# finding number of duplicate rows. This should be zero now.\n",
    "duplicate_rows_count = sum(tmdb_df.duplicated())\n",
    "print('Number of duplicate rows in the dataset: {}.'.format(duplicate_rows_count))"
   ]
  },
  {
   "cell_type": "code",
   "execution_count": 140,
   "metadata": {},
   "outputs": [
    {
     "name": "stdout",
     "output_type": "stream",
     "text": [
      "This dataset contains 10865 rows and 11 columns\n"
     ]
    }
   ],
   "source": [
    "# finding the size of the dataset. one row need to be reduced from the total number of rows\n",
    "tmdb_df.shape\n",
    "print('This dataset contains {} rows and {} columns'.format(tmdb_df.shape[0], tmdb_df.shape[1]))"
   ]
  },
  {
   "cell_type": "code",
   "execution_count": 141,
   "metadata": {},
   "outputs": [],
   "source": [
    "# This function replace the zero values in a column by column mean value\n",
    "def replace_with_mean(x,y):\n",
    "    '''\n",
    "    Replaces the zero values in a column by column mean value\n",
    "    input variables\n",
    "    x - data frame, y - column name\n",
    "    '''\n",
    "    x[y] = x[y].replace(0, x[y].mean())    "
   ]
  },
  {
   "cell_type": "code",
   "execution_count": 142,
   "metadata": {},
   "outputs": [],
   "source": [
    "# replace zero values in budget, revenue and runtime columns with its mean value\n",
    "replace_with_mean(tmdb_df, 'budget')\n",
    "replace_with_mean(tmdb_df, 'revenue')\n",
    "replace_with_mean(tmdb_df, 'runtime')"
   ]
  },
  {
   "cell_type": "code",
   "execution_count": 143,
   "metadata": {
    "scrolled": true
   },
   "outputs": [
    {
     "name": "stdout",
     "output_type": "stream",
     "text": [
      "total number of zero values in budget, revenue and runtime columns: \n",
      "budget     0\n",
      "revenue    0\n",
      "runtime    0\n",
      "dtype: int64\n"
     ]
    }
   ],
   "source": [
    "# confirm that all zero values in budget, revenue and runtime columns are replaced with mean values.\n",
    "zero_data = (tmdb_df[['budget', 'revenue', 'runtime']] == 0).sum()\n",
    "print('total number of zero values in budget, revenue and runtime columns: \\n{}'.format(zero_data))"
   ]
  },
  {
   "cell_type": "code",
   "execution_count": 144,
   "metadata": {},
   "outputs": [],
   "source": [
    "# drop all rows with null values in the dataset\n",
    "tmdb_df.dropna(inplace=True)"
   ]
  },
  {
   "cell_type": "code",
   "execution_count": 145,
   "metadata": {},
   "outputs": [
    {
     "name": "stdout",
     "output_type": "stream",
     "text": [
      "This dataset have 0 null values.\n"
     ]
    }
   ],
   "source": [
    "# total number of null values in the dataset. Now this should be zero\n",
    "total_null = tmdb_df.isnull().sum().sum()\n",
    "print('This dataset have {} null values.'.format(total_null))"
   ]
  },
  {
   "cell_type": "code",
   "execution_count": 146,
   "metadata": {},
   "outputs": [
    {
     "name": "stdout",
     "output_type": "stream",
     "text": [
      "This dataset contains 10731 rows and 11 columns\n"
     ]
    }
   ],
   "source": [
    "# finding the size of the dataset\n",
    "tmdb_df.shape\n",
    "print('This dataset contains {} rows and {} columns'.format(tmdb_df.shape[0], tmdb_df.shape[1]))"
   ]
  },
  {
   "cell_type": "code",
   "execution_count": 147,
   "metadata": {
    "scrolled": true
   },
   "outputs": [
    {
     "name": "stdout",
     "output_type": "stream",
     "text": [
      "<class 'pandas.core.frame.DataFrame'>\n",
      "Int64Index: 10731 entries, 0 to 10865\n",
      "Data columns (total 11 columns):\n",
      "popularity        10731 non-null float64\n",
      "budget            10731 non-null float64\n",
      "revenue           10731 non-null float64\n",
      "original_title    10731 non-null object\n",
      "cast              10731 non-null object\n",
      "director          10731 non-null object\n",
      "runtime           10731 non-null float64\n",
      "genres            10731 non-null object\n",
      "release_date      10731 non-null datetime64[ns]\n",
      "vote_count        10731 non-null int64\n",
      "release_year      10731 non-null int64\n",
      "dtypes: datetime64[ns](1), float64(4), int64(2), object(4)\n",
      "memory usage: 1006.0+ KB\n"
     ]
    }
   ],
   "source": [
    "# finding the dataset information in the final data set\n",
    "tmdb_df.info()"
   ]
  },
  {
   "cell_type": "code",
   "execution_count": 148,
   "metadata": {},
   "outputs": [
    {
     "data": {
      "image/png": "[encoded data removed]",
      "text/plain": [
       "<matplotlib.figure.Figure at 0x7f21ad70b470>"
      ]
     },
     "metadata": {
      "needs_background": "light"
     },
     "output_type": "display_data"
    }
   ],
   "source": [
    "# finding how data are distributed in the final dataset graphically.\n",
    "tmdb_df.hist(figsize=(10,10));"
   ]
  },
  {
   "cell_type": "markdown",
   "metadata": {},
   "source": [
    "> After executing all cleaning steps final data set contains, \n",
    "    * 10731 rows and 11 columns.\n",
    "    * No null values\n",
    "    * All data are in correct format\n",
    "    * budget, popoularity, revenue, runtime and vote_count columns are right skewed and release_year column has left skewed."
   ]
  },
  {
   "cell_type": "markdown",
   "metadata": {},
   "source": [
    "<a id='eda'></a>\n",
    "## Exploratory Data Analysis\n",
    "\n",
    "### Research Question 1 -  What are the highest revenue and lowest revenue movies?"
   ]
  },
  {
   "cell_type": "code",
   "execution_count": 149,
   "metadata": {},
   "outputs": [],
   "source": [
    "# functions to find maximum and minimum values in a given column\n",
    "def find_max(x, dataframe):\n",
    "    '''\n",
    "    find the maximum value in a given column and returns the index of the row containing column maximum\n",
    "    input --> x = dataframe.column_name, dataframe = datafram name\n",
    "    output --> index of the row containing column maximum\n",
    "    '''\n",
    "    idx = x.idxmax()\n",
    "    return dataframe.loc[idx]\n",
    "\n",
    "def find_min(x,dataframe):\n",
    "    '''\n",
    "    find the minimum value in a given column and returns the index of the row containing column minimum\n",
    "    input --> x = dataframe.column_name, dataframe = datafram name\n",
    "    output --> index of the row containing column minimum\n",
    "    '''\n",
    "    idx = x.idxmin()\n",
    "    return dataframe.loc[idx]"
   ]
  },
  {
   "cell_type": "code",
   "execution_count": 150,
   "metadata": {},
   "outputs": [
    {
     "name": "stdout",
     "output_type": "stream",
     "text": [
      "The Avatar movie has earned the 2781505847.0 amount of highest revenue.\n"
     ]
    }
   ],
   "source": [
    "# calling the find_max funtion\n",
    "max_value = find_max(tmdb_df.revenue, tmdb_df)\n",
    "print('The {} movie has earned the {} amount of highest revenue.'.format(max_value.original_title, max_value.revenue))"
   ]
  },
  {
   "cell_type": "code",
   "execution_count": 151,
   "metadata": {},
   "outputs": [
    {
     "name": "stdout",
     "output_type": "stream",
     "text": [
      "The Shattered Glass movie has earned the 2.0 amount of lowest revenue.\n"
     ]
    }
   ],
   "source": [
    "# calling the find_min funtion\n",
    "min_value = find_min(tmdb_df.revenue, tmdb_df)\n",
    "print('The {} movie has earned the {} amount of lowest revenue.'.format(min_value.original_title, min_value.revenue))"
   ]
  },
  {
   "cell_type": "markdown",
   "metadata": {},
   "source": [
    "### Research Question 2 -  What are the highest and lowest popularity movies?"
   ]
  },
  {
   "cell_type": "code",
   "execution_count": 152,
   "metadata": {},
   "outputs": [
    {
     "name": "stdout",
     "output_type": "stream",
     "text": [
      "The Jurassic World movie has got the 32.985763 amount of highest popularity.\n"
     ]
    }
   ],
   "source": [
    "# calling the find_max funtion\n",
    "max_value = find_max(tmdb_df.popularity, tmdb_df)\n",
    "print('The {} movie has got the {} amount of highest popularity.'.format(max_value.original_title, max_value.popularity))"
   ]
  },
  {
   "cell_type": "code",
   "execution_count": 153,
   "metadata": {},
   "outputs": [
    {
     "name": "stdout",
     "output_type": "stream",
     "text": [
      "The Hospital movie has got the 0.000188 amount of lowest popularity.\n"
     ]
    }
   ],
   "source": [
    "# calling the find_min funtion\n",
    "min_value = find_min(tmdb_df.popularity, tmdb_df)\n",
    "print('{} movie has got the {} amount of lowest popularity.'.format(min_value.original_title, min_value.popularity))"
   ]
  },
  {
   "cell_type": "markdown",
   "metadata": {},
   "source": [
    "### Research Question 3 -  What kinds of properties are associated with movies that have high revenues?"
   ]
  },
  {
   "cell_type": "code",
   "execution_count": 154,
   "metadata": {},
   "outputs": [
    {
     "name": "stdout",
     "output_type": "stream",
     "text": [
      "The median value of the revenum column is 39826896.07685228.\n"
     ]
    }
   ],
   "source": [
    "# calculating the median of revenue\n",
    "revenue_median = tmdb_df['revenue'].median()\n",
    "print('The median value of the revenum column is {}.'.format(revenue_median))"
   ]
  },
  {
   "cell_type": "code",
   "execution_count": 155,
   "metadata": {
    "scrolled": true
   },
   "outputs": [
    {
     "name": "stdout",
     "output_type": "stream",
     "text": [
      "high_rev dataset contains 2170 rows and 11 columns\n",
      "low_rev dataset contains 8561 rows and 11 columns\n"
     ]
    }
   ],
   "source": [
    "# creating two data frames for high revenue movies and low revenue movies depending on the median value\n",
    "high_rev = tmdb_df.query('revenue > 39826896.076852277')\n",
    "low_rev = tmdb_df.query('revenue <= 39826896.076852277')\n",
    "print('high_rev dataset contains {} rows and {} columns'.format(high_rev.shape[0], high_rev.shape[1]))\n",
    "print('low_rev dataset contains {} rows and {} columns'.format(low_rev.shape[0], low_rev.shape[1]))"
   ]
  },
  {
   "cell_type": "markdown",
   "metadata": {},
   "source": [
    "#### Research Question 3.1 - Do higher revenue movies receive higher popularity?"
   ]
  },
  {
   "cell_type": "code",
   "execution_count": 156,
   "metadata": {},
   "outputs": [],
   "source": [
    "# This function (calculate_mean) calculates the mean of a given column in a given dataframe.\n",
    "def calculate_mean(x):\n",
    "    '''\n",
    "    calculates the mean of a given column\n",
    "    input --> x = dataframe.column_name\n",
    "    output --> mean of the column\n",
    "    '''\n",
    "    result = x.mean()\n",
    "    return result"
   ]
  },
  {
   "cell_type": "code",
   "execution_count": 157,
   "metadata": {},
   "outputs": [
    {
     "name": "stdout",
     "output_type": "stream",
     "text": [
      "Average revenue for the high revenue movies is 183767258.32258064.\n",
      "Average revenue value for the low revenue movies is 31351305.600689895.\n"
     ]
    }
   ],
   "source": [
    "# calculate the average revenue\n",
    "mean_revenue_high = calculate_mean(high_rev.revenue)\n",
    "mean_revenue_low = calculate_mean(low_rev.revenue)\n",
    "print('Average revenue for the high revenue movies is {}.'.format(mean_revenue_high))\n",
    "print('Average revenue value for the low revenue movies is {}.'.format(mean_revenue_low))"
   ]
  },
  {
   "cell_type": "code",
   "execution_count": 158,
   "metadata": {},
   "outputs": [
    {
     "name": "stdout",
     "output_type": "stream",
     "text": [
      "Average popularity value for the high revenue movies is 1.6244546184331794.\n",
      "Average popularity value for the low revenue movies is 0.4062775595140754.\n"
     ]
    }
   ],
   "source": [
    "# calculate the popularity mean\n",
    "mean_popularity_high = calculate_mean(high_rev.popularity)\n",
    "mean_popularity_low = calculate_mean(low_rev.popularity)\n",
    "mean_popularity_high, mean_popularity_low\n",
    "print('Average popularity value for the high revenue movies is {}.'.format(mean_popularity_high))\n",
    "print('Average popularity value for the low revenue movies is {}.'.format(mean_popularity_low))"
   ]
  },
  {
   "cell_type": "code",
   "execution_count": 159,
   "metadata": {},
   "outputs": [],
   "source": [
    "# this funtion plot a bar graph with given values \n",
    "def plot_bar_chart(heights,labels,t,x,y):\n",
    "    '''\n",
    "    plot a bar chart\n",
    "    input \n",
    "        heights = an array containing heights of bars\n",
    "        labels = an array containing x-axis labels\n",
    "        t = title\n",
    "        x = x-axis label\n",
    "        y = y-axis label          \n",
    "    '''\n",
    "    locations = [1,2]\n",
    "    plt.bar(locations, heights, tick_label=labels)\n",
    "    plt.title(t)\n",
    "    plt.xlabel(x)\n",
    "    plt.ylabel(y);    "
   ]
  },
  {
   "cell_type": "code",
   "execution_count": 160,
   "metadata": {},
   "outputs": [
    {
     "data": {
      "image/png": "[encoded data removed]",
      "text/plain": [
       "<matplotlib.figure.Figure at 0x7f21a94e96d8>"
      ]
     },
     "metadata": {
      "needs_background": "light"
     },
     "output_type": "display_data"
    }
   ],
   "source": [
    "# plotting the average popularity by revenue\n",
    "heights = [mean_popularity_low , mean_popularity_high]\n",
    "labels = ['low_revenue', 'high_revenue']\n",
    "plot_bar_chart(heights, labels, 'Average popularity by Revenue', 'Revenue', 'Average Popularity' )"
   ]
  },
  {
   "cell_type": "markdown",
   "metadata": {
    "scrolled": true
   },
   "source": [
    "> According to the above results, we can conclude that __high revenue movies have high popularity.__"
   ]
  },
  {
   "cell_type": "markdown",
   "metadata": {},
   "source": [
    "#### Research Question 3.2 - Do higher revenue movies always have higher budget?"
   ]
  },
  {
   "cell_type": "code",
   "execution_count": 161,
   "metadata": {},
   "outputs": [
    {
     "name": "stdout",
     "output_type": "stream",
     "text": [
      "Average budget value for the high revenue movies is 52878810.48674418.\n",
      "Average budget value for the low revenue movies is 14681132.540897775.\n"
     ]
    }
   ],
   "source": [
    "# calculate the budget mean\n",
    "mean_budget_high = calculate_mean(high_rev.budget)\n",
    "mean_budget_low = calculate_mean(low_rev.budget)\n",
    "print('Average budget value for the high revenue movies is {}.'.format(mean_budget_high))\n",
    "print('Average budget value for the low revenue movies is {}.'.format(mean_budget_low))"
   ]
  },
  {
   "cell_type": "code",
   "execution_count": 162,
   "metadata": {},
   "outputs": [
    {
     "data": {
      "image/png": "[encoded data removed]",
      "text/plain": [
       "<matplotlib.figure.Figure at 0x7f21a94fa860>"
      ]
     },
     "metadata": {
      "needs_background": "light"
     },
     "output_type": "display_data"
    }
   ],
   "source": [
    "# plotting the average budget by revenue\n",
    "heights = [mean_budget_low , mean_budget_high]\n",
    "plot_bar_chart(heights, labels, 'Average budget by Revenue','Revenue','Average Budget')"
   ]
  },
  {
   "cell_type": "markdown",
   "metadata": {},
   "source": [
    "> According to the above results, we can conclude that **high revenue movies have high budget.**"
   ]
  },
  {
   "cell_type": "markdown",
   "metadata": {},
   "source": [
    "#### Research Question 3.3 - What is the average runtime for higher and lower revenue movies?"
   ]
  },
  {
   "cell_type": "code",
   "execution_count": 163,
   "metadata": {},
   "outputs": [
    {
     "name": "stdout",
     "output_type": "stream",
     "text": [
      "Average runtime value for the high revenue movies is 112.6589861751152.\n",
      "Average runtime value for the low revenue movies is 100.21971850534426.\n"
     ]
    }
   ],
   "source": [
    "# calculate the runtime mean\n",
    "mean_runtime_high = calculate_mean(high_rev.runtime)\n",
    "mean_runtime_low = calculate_mean(low_rev.runtime)\n",
    "print('Average runtime value for the high revenue movies is {}.'.format(mean_runtime_high))\n",
    "print('Average runtime value for the low revenue movies is {}.'.format(mean_runtime_low))"
   ]
  },
  {
   "cell_type": "code",
   "execution_count": 164,
   "metadata": {},
   "outputs": [
    {
     "data": {
      "image/png": "[encoded data removed]",
      "text/plain": [
       "<matplotlib.figure.Figure at 0x7f21a945bac8>"
      ]
     },
     "metadata": {
      "needs_background": "light"
     },
     "output_type": "display_data"
    }
   ],
   "source": [
    "# plotting the average runtime by revenue\n",
    "heights = [mean_runtime_low , mean_runtime_high]\n",
    "plot_bar_chart(heights, labels, 'Average Runtime by Revenue', 'Revenue','Average Runtime')"
   ]
  },
  {
   "cell_type": "markdown",
   "metadata": {},
   "source": [
    "> By considering the above graph we can conclude that there is **no significant impact from movie runtime to movie revenue.**"
   ]
  },
  {
   "cell_type": "markdown",
   "metadata": {},
   "source": [
    "#### Research Question 3.4 - Do higher revenue movies always get higher vote count?"
   ]
  },
  {
   "cell_type": "code",
   "execution_count": 165,
   "metadata": {},
   "outputs": [
    {
     "name": "stdout",
     "output_type": "stream",
     "text": [
      "Average vote count for the high revenue movies is 814.6377880184332.\n",
      "Average vote count for the low revenue movies is 69.03971498656699.\n"
     ]
    }
   ],
   "source": [
    "# calculate the vote_count mean\n",
    "mean_vote_count_high = calculate_mean(high_rev.vote_count)\n",
    "mean_vote_count_low = calculate_mean(low_rev.vote_count)\n",
    "print('Average vote count for the high revenue movies is {}.'.format(mean_vote_count_high))\n",
    "print('Average vote count for the low revenue movies is {}.'.format(mean_vote_count_low))"
   ]
  },
  {
   "cell_type": "code",
   "execution_count": 166,
   "metadata": {},
   "outputs": [
    {
     "data": {
      "image/png": "[encoded data removed]",
      "text/plain": [
       "<matplotlib.figure.Figure at 0x7f21a93a11d0>"
      ]
     },
     "metadata": {
      "needs_background": "light"
     },
     "output_type": "display_data"
    }
   ],
   "source": [
    "# plotting the average vote count by revenue\n",
    "heights = [mean_vote_count_low , mean_vote_count_high]\n",
    "plot_bar_chart(heights, labels, 'Average vote count by Revenue', 'Revenue' , 'Average vote count')"
   ]
  },
  {
   "cell_type": "markdown",
   "metadata": {},
   "source": [
    "> According to the above results, we can conclude that **high revenue movies always get high vote count.**"
   ]
  },
  {
   "cell_type": "markdown",
   "metadata": {},
   "source": [
    "> Properties associated with high revenue movies are high popularity, high budget and high vote count. "
   ]
  },
  {
   "cell_type": "markdown",
   "metadata": {},
   "source": [
    "### Research Question 4  - Which genres are most popular from year 2020 to year 2015?"
   ]
  },
  {
   "cell_type": "markdown",
   "metadata": {},
   "source": [
    "> To answer the above question we need to analyze only two columns(genres and release_year) from the dataset. So before analyzing I'm creating a copy of the original dataset(tmdb_df) and drop unnecessary columns from the copied dataset(geners_df). "
   ]
  },
  {
   "cell_type": "code",
   "execution_count": 167,
   "metadata": {},
   "outputs": [],
   "source": [
    "# make a copy of the dataset to investigate this problem.\n",
    "genres_df = tmdb_df.copy() "
   ]
  },
  {
   "cell_type": "code",
   "execution_count": 168,
   "metadata": {},
   "outputs": [
    {
     "data": {
      "text/html": [
       "<div>\n",
       "<style scoped>\n",
       "    .dataframe tbody tr th:only-of-type {\n",
       "        vertical-align: middle;\n",
       "    }\n",
       "\n",
       "    .dataframe tbody tr th {\n",
       "        vertical-align: top;\n",
       "    }\n",
       "\n",
       "    .dataframe thead th {\n",
       "        text-align: right;\n",
       "    }\n",
       "</style>\n",
       "<table border=\"1\" class=\"dataframe\">\n",
       "  <thead>\n",
       "    <tr style=\"text-align: right;\">\n",
       "      <th></th>\n",
       "      <th>popularity</th>\n",
       "      <th>budget</th>\n",
       "      <th>revenue</th>\n",
       "      <th>original_title</th>\n",
       "      <th>cast</th>\n",
       "      <th>director</th>\n",
       "      <th>runtime</th>\n",
       "      <th>genres</th>\n",
       "      <th>release_date</th>\n",
       "      <th>vote_count</th>\n",
       "      <th>release_year</th>\n",
       "    </tr>\n",
       "  </thead>\n",
       "  <tbody>\n",
       "    <tr>\n",
       "      <th>0</th>\n",
       "      <td>32.985763</td>\n",
       "      <td>150000000.0</td>\n",
       "      <td>1.513529e+09</td>\n",
       "      <td>Jurassic World</td>\n",
       "      <td>Chris Pratt|Bryce Dallas Howard|Irrfan Khan|Vi...</td>\n",
       "      <td>Colin Trevorrow</td>\n",
       "      <td>124.0</td>\n",
       "      <td>Action|Adventure|Science Fiction|Thriller</td>\n",
       "      <td>2015-06-09</td>\n",
       "      <td>5562</td>\n",
       "      <td>2015</td>\n",
       "    </tr>\n",
       "    <tr>\n",
       "      <th>1</th>\n",
       "      <td>28.419936</td>\n",
       "      <td>150000000.0</td>\n",
       "      <td>3.784364e+08</td>\n",
       "      <td>Mad Max: Fury Road</td>\n",
       "      <td>Tom Hardy|Charlize Theron|Hugh Keays-Byrne|Nic...</td>\n",
       "      <td>George Miller</td>\n",
       "      <td>120.0</td>\n",
       "      <td>Action|Adventure|Science Fiction|Thriller</td>\n",
       "      <td>2015-05-13</td>\n",
       "      <td>6185</td>\n",
       "      <td>2015</td>\n",
       "    </tr>\n",
       "  </tbody>\n",
       "</table>\n",
       "</div>"
      ],
      "text/plain": [
       "   popularity       budget       revenue      original_title  \\\n",
       "0   32.985763  150000000.0  1.513529e+09      Jurassic World   \n",
       "1   28.419936  150000000.0  3.784364e+08  Mad Max: Fury Road   \n",
       "\n",
       "                                                cast         director  \\\n",
       "0  Chris Pratt|Bryce Dallas Howard|Irrfan Khan|Vi...  Colin Trevorrow   \n",
       "1  Tom Hardy|Charlize Theron|Hugh Keays-Byrne|Nic...    George Miller   \n",
       "\n",
       "   runtime                                     genres release_date  \\\n",
       "0    124.0  Action|Adventure|Science Fiction|Thriller   2015-06-09   \n",
       "1    120.0  Action|Adventure|Science Fiction|Thriller   2015-05-13   \n",
       "\n",
       "   vote_count  release_year  \n",
       "0        5562          2015  \n",
       "1        6185          2015  "
      ]
     },
     "execution_count": 168,
     "metadata": {},
     "output_type": "execute_result"
    }
   ],
   "source": [
    "genres_df.head(2)"
   ]
  },
  {
   "cell_type": "code",
   "execution_count": 169,
   "metadata": {},
   "outputs": [],
   "source": [
    "# Dropping unnessary columns from the new dataset\n",
    "genres_df.drop(['budget', 'revenue', 'original_title', 'cast', 'director', 'runtime', 'release_date', 'vote_count', 'popularity'], axis=1, inplace=True)"
   ]
  },
  {
   "cell_type": "code",
   "execution_count": 170,
   "metadata": {
    "scrolled": true
   },
   "outputs": [
    {
     "data": {
      "text/html": [
       "<div>\n",
       "<style scoped>\n",
       "    .dataframe tbody tr th:only-of-type {\n",
       "        vertical-align: middle;\n",
       "    }\n",
       "\n",
       "    .dataframe tbody tr th {\n",
       "        vertical-align: top;\n",
       "    }\n",
       "\n",
       "    .dataframe thead th {\n",
       "        text-align: right;\n",
       "    }\n",
       "</style>\n",
       "<table border=\"1\" class=\"dataframe\">\n",
       "  <thead>\n",
       "    <tr style=\"text-align: right;\">\n",
       "      <th></th>\n",
       "      <th>genres</th>\n",
       "      <th>release_year</th>\n",
       "    </tr>\n",
       "  </thead>\n",
       "  <tbody>\n",
       "    <tr>\n",
       "      <th>0</th>\n",
       "      <td>Action|Adventure|Science Fiction|Thriller</td>\n",
       "      <td>2015</td>\n",
       "    </tr>\n",
       "    <tr>\n",
       "      <th>1</th>\n",
       "      <td>Action|Adventure|Science Fiction|Thriller</td>\n",
       "      <td>2015</td>\n",
       "    </tr>\n",
       "  </tbody>\n",
       "</table>\n",
       "</div>"
      ],
      "text/plain": [
       "                                      genres  release_year\n",
       "0  Action|Adventure|Science Fiction|Thriller          2015\n",
       "1  Action|Adventure|Science Fiction|Thriller          2015"
      ]
     },
     "execution_count": 170,
     "metadata": {},
     "output_type": "execute_result"
    }
   ],
   "source": [
    "# checking the new dataset - it has only two columns\n",
    "genres_df.head(2)"
   ]
  },
  {
   "cell_type": "code",
   "execution_count": 171,
   "metadata": {},
   "outputs": [],
   "source": [
    "# creating a pandas series using genres_df\n",
    "index = np.array(genres_df['release_year'])\n",
    "data = np.array(genres_df['genres'])\n",
    "genres_series = pd.Series(data, index)"
   ]
  },
  {
   "cell_type": "code",
   "execution_count": 172,
   "metadata": {},
   "outputs": [
    {
     "data": {
      "text/plain": [
       "2015    Action|Adventure|Science Fiction|Thriller\n",
       "2015    Action|Adventure|Science Fiction|Thriller\n",
       "2015           Adventure|Science Fiction|Thriller\n",
       "2015     Action|Adventure|Science Fiction|Fantasy\n",
       "2015                        Action|Crime|Thriller\n",
       "dtype: object"
      ]
     },
     "execution_count": 172,
     "metadata": {},
     "output_type": "execute_result"
    }
   ],
   "source": [
    "# checking the genres_series\n",
    "genres_series.head(5)"
   ]
  },
  {
   "cell_type": "code",
   "execution_count": 173,
   "metadata": {
    "scrolled": true
   },
   "outputs": [],
   "source": [
    "# this function filter data(genres) according to a given value(ex:release_year) and count the number of occurences of one value(ex:Drama)\n",
    "def filter_data(x, y):\n",
    "    '''\n",
    "    input\n",
    "    x = data series\n",
    "    y = filtering value (ex: release_year)\n",
    "    output\n",
    "    data_count = dataset including the word and it is the frequency of occurrences  \n",
    "    '''\n",
    "    all_data = x[y].str.cat(sep = '|')              # filter data according to 'y' and combine all rows by seperating |\n",
    "    seperated_data = pd.Series(all_data.split('|')) # split the words seperated by | and make a list\n",
    "    data_count = seperated_data.value_counts()      # count each word to get the number of occurrences in the seperated_data list\n",
    "    \n",
    "    return data_count"
   ]
  },
  {
   "cell_type": "code",
   "execution_count": 174,
   "metadata": {},
   "outputs": [],
   "source": [
    "# plotting a bar chat according to the given details\n",
    "def plot_the_graph(c, t, x, y):\n",
    "    '''\n",
    "    input --> c = dataset, t=title, x= x-axis label, y = y-axis label\n",
    "    '''\n",
    "    c.plot(kind='bar', title=t)\n",
    "    plt.xlabel(x)\n",
    "    plt.ylabel(y);"
   ]
  },
  {
   "cell_type": "code",
   "execution_count": 175,
   "metadata": {
    "scrolled": false
   },
   "outputs": [
    {
     "data": {
      "text/plain": [
       "Drama       260\n",
       "Thriller    171\n",
       "Comedy      160\n",
       "Horror      125\n",
       "Action      106\n",
       "dtype: int64"
      ]
     },
     "execution_count": 175,
     "metadata": {},
     "output_type": "execute_result"
    }
   ],
   "source": [
    "#calculating the genres_count for 2015\n",
    "genres_count = filter_data(genres_series, 2015)\n",
    "genres_count.head(5)"
   ]
  },
  {
   "cell_type": "code",
   "execution_count": 176,
   "metadata": {
    "scrolled": true
   },
   "outputs": [
    {
     "data": {
      "image/png": "[encoded data removed]",
      "text/plain": [
       "<matplotlib.figure.Figure at 0x7f21a933ce10>"
      ]
     },
     "metadata": {
      "needs_background": "light"
     },
     "output_type": "display_data"
    }
   ],
   "source": [
    "# plotting the graph\n",
    "plot_the_graph(genres_count, 'Genres in 2015','Genres type','Movie count')"
   ]
  },
  {
   "cell_type": "markdown",
   "metadata": {},
   "source": [
    "> Most popular genres in 2015 are Drama, Thriller, Comedy, Horror and Action"
   ]
  },
  {
   "cell_type": "code",
   "execution_count": 177,
   "metadata": {},
   "outputs": [
    {
     "data": {
      "image/png": "[encoded data removed]",
      "text/plain": [
       "<matplotlib.figure.Figure at 0x7f21a9280dd8>"
      ]
     },
     "metadata": {
      "needs_background": "light"
     },
     "output_type": "display_data"
    }
   ],
   "source": [
    "#calculating and plotting the genres_count for 2014\n",
    "genres_count = filter_data(genres_series, 2014)\n",
    "plot_the_graph(genres_count, 'Genres in 2014','Genres type','Movie count')"
   ]
  },
  {
   "cell_type": "markdown",
   "metadata": {},
   "source": [
    "> Most popular genres in 2014 are Drama, Comedy, Thriller, Action and Horror"
   ]
  },
  {
   "cell_type": "code",
   "execution_count": 178,
   "metadata": {},
   "outputs": [
    {
     "data": {
      "image/png": "[encoded data removed]",
      "text/plain": [
       "<matplotlib.figure.Figure at 0x7f21a945b898>"
      ]
     },
     "metadata": {
      "needs_background": "light"
     },
     "output_type": "display_data"
    }
   ],
   "source": [
    "#calculating and plotting the genres_count for 2013\n",
    "genres_count = filter_data(genres_series, 2013)\n",
    "plot_the_graph(genres_count,'Genres in 2013','Genres type','Movie count')"
   ]
  },
  {
   "cell_type": "markdown",
   "metadata": {},
   "source": [
    "> Most popular genres in 2013 are Drama, Thriller, Comedy, Action and Horror"
   ]
  },
  {
   "cell_type": "code",
   "execution_count": 179,
   "metadata": {
    "scrolled": true
   },
   "outputs": [
    {
     "data": {
      "image/png": "[encoded data removed]",
      "text/plain": [
       "<matplotlib.figure.Figure at 0x7f21ac7096d8>"
      ]
     },
     "metadata": {
      "needs_background": "light"
     },
     "output_type": "display_data"
    }
   ],
   "source": [
    "#calculating and plotting the genres_count for 2012\n",
    "genres_count = filter_data(genres_series, 2012)\n",
    "plot_the_graph(genres_count, 'Genres in 2012','Genres type','Movie count')"
   ]
  },
  {
   "cell_type": "markdown",
   "metadata": {},
   "source": [
    "> Most popular genres in 2012 are Drama, Comedy, Thriller, Horror and Action"
   ]
  },
  {
   "cell_type": "code",
   "execution_count": 180,
   "metadata": {
    "scrolled": false
   },
   "outputs": [
    {
     "data": {
      "image/png": "[encoded data removed]",
      "text/plain": [
       "<matplotlib.figure.Figure at 0x7f21ac715be0>"
      ]
     },
     "metadata": {
      "needs_background": "light"
     },
     "output_type": "display_data"
    }
   ],
   "source": [
    "#calculating and plotting the genres_count for 2011\n",
    "genres_count = filter_data(genres_series, 2011)\n",
    "plot_the_graph(genres_count, 'Genres in 2011','Genres type','Movie count')"
   ]
  },
  {
   "cell_type": "markdown",
   "metadata": {},
   "source": [
    "> Most popular genres in 2011 are Drama, Comedy, Thriller, Action and Horror"
   ]
  },
  {
   "cell_type": "code",
   "execution_count": 181,
   "metadata": {},
   "outputs": [
    {
     "data": {
      "image/png": "[encoded data removed]",
      "text/plain": [
       "<matplotlib.figure.Figure at 0x7f21ad74db70>"
      ]
     },
     "metadata": {
      "needs_background": "light"
     },
     "output_type": "display_data"
    }
   ],
   "source": [
    "#calculating and plotting the genres_count for 2010\n",
    "genres_count = filter_data(genres_series, 2010)\n",
    "plot_the_graph(genres_count, 'Genres in 2010','Genres type','Movie count')"
   ]
  },
  {
   "cell_type": "markdown",
   "metadata": {},
   "source": [
    "> Most popular genres in 2010 are Drama, Comedy, Thriller, Action and Romance"
   ]
  },
  {
   "cell_type": "markdown",
   "metadata": {},
   "source": [
    "> The most popular genre from 2010 to 2015 is 'Drama' followed by 'Comedy'. The third popular genre is 'Thriller'. The next two are 'Action' and 'Horror'. The least popular genre according to the above graphs is 'Western'. "
   ]
  },
  {
   "cell_type": "markdown",
   "metadata": {},
   "source": [
    "### Research Question 5 -  What are the frequently used top 5 genres in movies from 1960 to 2015? "
   ]
  },
  {
   "cell_type": "code",
   "execution_count": 182,
   "metadata": {
    "scrolled": true
   },
   "outputs": [
    {
     "data": {
      "image/png": "[encoded data removed]",
      "text/plain": [
       "<matplotlib.figure.Figure at 0x7f21a920fdd8>"
      ]
     },
     "metadata": {
      "needs_background": "light"
     },
     "output_type": "display_data"
    }
   ],
   "source": [
    "#calculating and plotting the genres_count for full dataset\n",
    "all_genres_count = filter_data(genres_df, 'genres')\n",
    "plot_the_graph(all_genres_count, 'Genres','Genres type','Movie count')"
   ]
  },
  {
   "cell_type": "markdown",
   "metadata": {},
   "source": [
    "> According to the graph, top 5 most frequently used genres in the whole data set are, 'Drama', 'Comedy', 'Thriller', 'Action' and 'Romance'. Least used genres are 'History','War','Foreign','Western','TV Movie'"
   ]
  },
  {
   "cell_type": "markdown",
   "metadata": {},
   "source": [
    "### Research Question 6 - Top 5 Genres, Directors and  Casts in movies with high revenue ? "
   ]
  },
  {
   "cell_type": "markdown",
   "metadata": {},
   "source": [
    "#### 6.1 - Genres used in high revenue movies. "
   ]
  },
  {
   "cell_type": "code",
   "execution_count": 183,
   "metadata": {},
   "outputs": [
    {
     "data": {
      "image/png": "[encoded data removed]",
      "text/plain": [
       "<matplotlib.figure.Figure at 0x7f21a941de48>"
      ]
     },
     "metadata": {
      "needs_background": "light"
     },
     "output_type": "display_data"
    }
   ],
   "source": [
    "#calculating and plotting the genres_count for high revenue movies\n",
    "high_rev_genres_count = filter_data(high_rev, 'genres')\n",
    "plot_the_graph(high_rev_genres_count, 'Genres in higher revenue movies', 'Genres type', 'Movie count')"
   ]
  },
  {
   "cell_type": "markdown",
   "metadata": {},
   "source": [
    "> According to the graph, top 5 frequently used genres in high revenue movies are 'Drama', 'Comedy', 'Action', 'Thriller' and 'Adventure'"
   ]
  },
  {
   "cell_type": "markdown",
   "metadata": {},
   "source": [
    "##### 6.2 -  Top 5 directors in high revenue movies."
   ]
  },
  {
   "cell_type": "code",
   "execution_count": 184,
   "metadata": {
    "scrolled": true
   },
   "outputs": [
    {
     "data": {
      "text/plain": [
       "Steven Spielberg         25\n",
       "Clint Eastwood           20\n",
       "Ridley Scott             17\n",
       "Ron Howard               16\n",
       "Tim Burton               15\n",
       "Robert Zemeckis          14\n",
       "Michael Bay              11\n",
       "Tony Scott               11\n",
       "Joel Schumacher          11\n",
       "Martin Scorsese          10\n",
       "Richard Donner           10\n",
       "Ivan Reitman             10\n",
       "Oliver Stone             10\n",
       "Shawn Levy               10\n",
       "David Fincher            10\n",
       "Chris Columbus            9\n",
       "Dennis Dugan              9\n",
       "Barry Levinson            9\n",
       "Brett Ratner              9\n",
       "Peter Farrelly            9\n",
       "Raja Gosnell              9\n",
       "M. Night Shyamalan        9\n",
       "Steven Soderbergh         9\n",
       "Bobby Farrelly            8\n",
       "Renny Harlin              8\n",
       "Jon Turteltaub            8\n",
       "Garry Marshall            8\n",
       "Paul W.S. Anderson        8\n",
       "Rob Cohen                 8\n",
       "Rob Reiner                8\n",
       "                         ..\n",
       "Peter Spierig             1\n",
       "Ric Roman Waugh           1\n",
       "Val Guest                 1\n",
       "James Bridges             1\n",
       "Kirsten Sheridan          1\n",
       "Arthur Penn               1\n",
       "John Polson               1\n",
       "Mark Rosman               1\n",
       "Christopher B. Landon     1\n",
       "Michael Dougherty         1\n",
       "Frank Miller              1\n",
       "Mennan Yapo               1\n",
       "Mike McCoy                1\n",
       "John McNaughton           1\n",
       "Richard Stanley           1\n",
       "Steve Antin               1\n",
       "Richard Tuggle            1\n",
       "Richard Benjamin          1\n",
       "J.B. Rogers               1\n",
       "Clare Kilner              1\n",
       "Forest Whitaker           1\n",
       "Joe Alves                 1\n",
       "John Sanford              1\n",
       "Ryan Coogler              1\n",
       "Carl Rinsch               1\n",
       "Alejandro Agresti         1\n",
       "Jennifer Flackett         1\n",
       "Eduardo SÃ¡nchez          1\n",
       "Chris Nahon               1\n",
       "Rouben Mamoulian          1\n",
       "Length: 982, dtype: int64"
      ]
     },
     "execution_count": 184,
     "metadata": {},
     "output_type": "execute_result"
    }
   ],
   "source": [
    "#calculating the movie count for each director for high revenue movies\n",
    "high_rev_director_count = filter_data(high_rev, 'director')\n",
    "high_rev_director_count"
   ]
  },
  {
   "cell_type": "code",
   "execution_count": 185,
   "metadata": {},
   "outputs": [
    {
     "data": {
      "image/png": "[encoded data removed]",
      "text/plain": [
       "<matplotlib.figure.Figure at 0x7f21ad678748>"
      ]
     },
     "metadata": {
      "needs_background": "light"
     },
     "output_type": "display_data"
    }
   ],
   "source": [
    "# plotting the graph for top 5 movie directors\n",
    "plot_the_graph(high_rev_director_count.head(5), 'Directors in higher revenue movies', 'Director name', 'Movie count')"
   ]
  },
  {
   "cell_type": "markdown",
   "metadata": {},
   "source": [
    "> Top 5 directors of high revenue movies are: Steven Spielberg, Clint Eastwood, Ridley Scott, Ron Howard and Tim Burton."
   ]
  },
  {
   "cell_type": "markdown",
   "metadata": {},
   "source": [
    "#### 6.3 - Top casts in high revenue movies."
   ]
  },
  {
   "cell_type": "code",
   "execution_count": 186,
   "metadata": {},
   "outputs": [],
   "source": [
    "#calculating the movie count for each casts for high revenue movies\n",
    "high_rev_cast_count = filter_data(high_rev, 'cast')\n",
    "#high_rev_cast_count"
   ]
  },
  {
   "cell_type": "code",
   "execution_count": 187,
   "metadata": {
    "scrolled": true
   },
   "outputs": [
    {
     "data": {
      "image/png": "[encoded data removed]",
      "text/plain": [
       "<matplotlib.figure.Figure at 0x7f21ada12ac8>"
      ]
     },
     "metadata": {
      "needs_background": "light"
     },
     "output_type": "display_data"
    }
   ],
   "source": [
    "# plotting the graph for top 5 casts\n",
    "plot_the_graph(high_rev_cast_count.head(5), 'Casts in higher revenue movies', 'Cast name', 'Movie count')"
   ]
  },
  {
   "cell_type": "markdown",
   "metadata": {},
   "source": [
    "> Top 5 casts in in high revenue movies are: Robert De Niro, Bruce Willis, Tom Cruise, Brad Pitt, Tom Hanks "
   ]
  },
  {
   "cell_type": "markdown",
   "metadata": {},
   "source": [
    "### Research Question 7 - Top 5 Genres, Directors and  Casts in most popular movies ? "
   ]
  },
  {
   "cell_type": "code",
   "execution_count": 188,
   "metadata": {},
   "outputs": [
    {
     "data": {
      "text/plain": [
       "0.38708100000000001"
      ]
     },
     "execution_count": 188,
     "metadata": {},
     "output_type": "execute_result"
    }
   ],
   "source": [
    "# calculating the median of revenue\n",
    "popularity_median= tmdb_df['popularity'].median()\n",
    "popularity_median"
   ]
  },
  {
   "cell_type": "code",
   "execution_count": 189,
   "metadata": {},
   "outputs": [
    {
     "name": "stdout",
     "output_type": "stream",
     "text": [
      "high_pop dataset contains 5365 rows and 11 columns\n",
      "low_pop dataset contains 5366 rows and 11 columns\n"
     ]
    }
   ],
   "source": [
    "# creating two data frames for high revenue movies and low revenue movies\n",
    "high_pop = tmdb_df.query('popularity > 0.38708100000000001')\n",
    "low_pop = tmdb_df.query('popularity <= 0.38708100000000001')\n",
    "print('high_pop dataset contains {} rows and {} columns'.format(high_pop.shape[0], high_pop.shape[1]))\n",
    "print('low_pop dataset contains {} rows and {} columns'.format(low_pop.shape[0], low_pop.shape[1]))"
   ]
  },
  {
   "cell_type": "code",
   "execution_count": 190,
   "metadata": {
    "scrolled": true
   },
   "outputs": [
    {
     "data": {
      "image/png": "[encoded data removed]",
      "text/plain": [
       "<matplotlib.figure.Figure at 0x7f21a947bdd8>"
      ]
     },
     "metadata": {
      "needs_background": "light"
     },
     "output_type": "display_data"
    }
   ],
   "source": [
    "#calculating and plotting the genres_count for most popular movies\n",
    "high_pop_genres_count = filter_data(high_pop, 'genres')\n",
    "plot_the_graph(high_pop_genres_count, 'Genres in most popular movies', 'Genres type', 'Movie count')"
   ]
  },
  {
   "cell_type": "markdown",
   "metadata": {},
   "source": [
    "> Most popular movie genres are: Drama, Comedy, Thriller, Action and Adventure."
   ]
  },
  {
   "cell_type": "code",
   "execution_count": 191,
   "metadata": {
    "scrolled": true
   },
   "outputs": [],
   "source": [
    "#calculating the movie count for each director for high revenue movies\n",
    "high_pop_director_count = filter_data(high_pop, 'director')\n",
    "#high_pop_director_count"
   ]
  },
  {
   "cell_type": "code",
   "execution_count": 192,
   "metadata": {
    "scrolled": true
   },
   "outputs": [
    {
     "data": {
      "image/png": "[encoded data removed]",
      "text/plain": [
       "<matplotlib.figure.Figure at 0x7f21ad7e5160>"
      ]
     },
     "metadata": {
      "needs_background": "light"
     },
     "output_type": "display_data"
    }
   ],
   "source": [
    "# plotting the graph for top 5 movie directors\n",
    "plot_the_graph(high_pop_director_count.head(5), 'Directors in most popular movies', 'Director name', 'Movie count')"
   ]
  },
  {
   "cell_type": "markdown",
   "metadata": {},
   "source": [
    "> Top 5 movie directors in most popular movies are: Woody Allen, Steven Spielberg, Clint Eastwood, Ridley Scott, Ron Howard"
   ]
  },
  {
   "cell_type": "code",
   "execution_count": 193,
   "metadata": {
    "scrolled": true
   },
   "outputs": [
    {
     "data": {
      "text/plain": [
       "Robert De Niro           61\n",
       "Samuel L. Jackson        60\n",
       "Bruce Willis             53\n",
       "Nicolas Cage             51\n",
       "Tom Hanks                40\n",
       "Morgan Freeman           39\n",
       "Johnny Depp              39\n",
       "Sylvester Stallone       37\n",
       "Matt Damon               36\n",
       "Brad Pitt                36\n",
       "Antonio Banderas         36\n",
       "Liam Neeson              36\n",
       "Ed Harris                35\n",
       "Michael Caine            35\n",
       "Julianne Moore           35\n",
       "Nicole Kidman            35\n",
       "Ewan McGregor            35\n",
       "Harrison Ford            35\n",
       "Robin Williams           35\n",
       "John Goodman             35\n",
       "Susan Sarandon           35\n",
       "Anthony Hopkins          34\n",
       "Clint Eastwood           34\n",
       "Dustin Hoffman           34\n",
       "Mark Wahlberg            34\n",
       "John Cusack              33\n",
       "Eddie Murphy             33\n",
       "Tom Cruise               33\n",
       "Arnold Schwarzenegger    33\n",
       "Adam Sandler             33\n",
       "                         ..\n",
       "Lucy Gordon               1\n",
       "Brooke Smith              1\n",
       "Aaron Milo                1\n",
       "Tamla Kari                1\n",
       "Alexander Scheer          1\n",
       "Leroy Chiao               1\n",
       "Roger Lumont              1\n",
       "Darren Dalton             1\n",
       "Baron Hill                1\n",
       "Michael Hurst             1\n",
       "Alysia Reiner             1\n",
       "Anna Wood                 1\n",
       "Charles Boyer             1\n",
       "Linda Henry               1\n",
       "Chris O'Neil              1\n",
       "Anthony Baines            1\n",
       "Feodor Chaliapin Jr.      1\n",
       "Michael Beasley           1\n",
       "Fiona Press               1\n",
       "Callum Blue               1\n",
       "Tony Mumolo               1\n",
       "Bo Derek                  1\n",
       "Hutch Dano                1\n",
       "Phyllida Law              1\n",
       "Brian Presley             1\n",
       "Kajol                     1\n",
       "Bill Maher                1\n",
       "Nikki Sanderson           1\n",
       "John Sharian              1\n",
       "Madison Eginton           1\n",
       "Length: 9299, dtype: int64"
      ]
     },
     "execution_count": 193,
     "metadata": {},
     "output_type": "execute_result"
    }
   ],
   "source": [
    "#calculating the movie count for each casts for most popular movies\n",
    "high_pop_cast_count = filter_data(high_pop, 'cast')\n",
    "high_pop_cast_count"
   ]
  },
  {
   "cell_type": "code",
   "execution_count": 194,
   "metadata": {},
   "outputs": [
    {
     "data": {
      "image/png": "[encoded data removed]",
      "text/plain": [
       "<matplotlib.figure.Figure at 0x7f21a94e4da0>"
      ]
     },
     "metadata": {
      "needs_background": "light"
     },
     "output_type": "display_data"
    }
   ],
   "source": [
    "# plotting the graph for top 5 casts\n",
    "plot_the_graph(high_pop_cast_count.head(5), 'Casts in most popular movies', 'Cast name', 'Movie count')"
   ]
  },
  {
   "cell_type": "markdown",
   "metadata": {},
   "source": [
    "> Top 5 casts in most popular movies are: Robert De Niro, Samuel L. Jackson, Bruce Willis, Nicolas Cage, Tom Hanks"
   ]
  },
  {
   "cell_type": "markdown",
   "metadata": {},
   "source": [
    "### Research Question 8 - How much have movie economy has improved by each year ?"
   ]
  },
  {
   "cell_type": "code",
   "execution_count": 195,
   "metadata": {},
   "outputs": [],
   "source": [
    "# calculating average revenue earned by movies in each year\n",
    "revenue_mean = tmdb_df.groupby('release_year').revenue.mean()\n",
    "# calculating average budget spend by movies in each year\n",
    "budget_mean = tmdb_df.groupby('release_year').budget.mean()\n",
    "# calculating the average profit earned by movies in each yeat\n",
    "profit_inc = revenue_mean - budget_mean"
   ]
  },
  {
   "cell_type": "code",
   "execution_count": 196,
   "metadata": {},
   "outputs": [],
   "source": [
    "# this function plots a line graph according to the given data\n",
    "def plot_line_graph(p,t,x,y):\n",
    "    '''\n",
    "    p - values for y axis\n",
    "    t - graph title\n",
    "    x - label for x axis\n",
    "    y - label for y axis\n",
    "    '''\n",
    "    plt.subplots(figsize=(8, 5))\n",
    "    plt.plot(p.index, p)\n",
    "    plt.title(t)\n",
    "    plt.xlabel(x)\n",
    "    plt.ylabel(y);"
   ]
  },
  {
   "cell_type": "code",
   "execution_count": 197,
   "metadata": {
    "scrolled": true
   },
   "outputs": [
    {
     "data": {
      "image/png": "[encoded data removed]",
      "text/plain": [
       "<matplotlib.figure.Figure at 0x7f21a949e080>"
      ]
     },
     "metadata": {
      "needs_background": "light"
     },
     "output_type": "display_data"
    }
   ],
   "source": [
    "# plotting the earned average profit in each year\n",
    "plot_line_graph(profit_inc,'Improvements in Movie Profit(Revenue - Budget) by Year','Year','Increase in Average Profit');"
   ]
  },
  {
   "cell_type": "code",
   "execution_count": 198,
   "metadata": {},
   "outputs": [
    {
     "name": "stdout",
     "output_type": "stream",
     "text": [
      "Maximum average profit has earned in 1977\n"
     ]
    }
   ],
   "source": [
    "# finding the maximum profit earned year\n",
    "print('Maximum average profit has earned in {}'.format(profit_inc.idxmax()))"
   ]
  },
  {
   "cell_type": "code",
   "execution_count": 199,
   "metadata": {},
   "outputs": [
    {
     "name": "stdout",
     "output_type": "stream",
     "text": [
      "Minimum average profit has earned in 1968\n"
     ]
    }
   ],
   "source": [
    "# finding the minimum profit earned year\n",
    "print('Minimum average profit has earned in {}'.format(profit_inc.idxmin()))"
   ]
  },
  {
   "cell_type": "markdown",
   "metadata": {},
   "source": [
    "> According to the above findings maximum average profit has earned in 1977 and the minimum was in 1968. According to the graph, it seems average profit was fluctuating up and down throughout the years from 1960 - 2015. But the overall trend is increasing. When considering the last few years it seems the movie economy is increasing."
   ]
  },
  {
   "cell_type": "markdown",
   "metadata": {},
   "source": [
    "### Research Question 9 - Is there a relationship between runtime of a movie and popularity?"
   ]
  },
  {
   "cell_type": "code",
   "execution_count": 200,
   "metadata": {
    "scrolled": true
   },
   "outputs": [
    {
     "data": {
      "image/png": "[encoded data removed]",
      "text/plain": [
       "<matplotlib.figure.Figure at 0x7f21a94dde80>"
      ]
     },
     "metadata": {
      "needs_background": "light"
     },
     "output_type": "display_data"
    }
   ],
   "source": [
    "# calculating and plotting average popularity for each runtime\n",
    "popularity_by_runtime = tmdb_df.groupby('runtime').popularity.mean()\n",
    "plot_line_graph(popularity_by_runtime,'Average popularity for each movie runtime','Movie runtime(mins)','Average popularity');"
   ]
  },
  {
   "cell_type": "code",
   "execution_count": 201,
   "metadata": {},
   "outputs": [
    {
     "name": "stdout",
     "output_type": "stream",
     "text": [
      "Movie runtime for highest average popularity is 169.0 mins\n"
     ]
    }
   ],
   "source": [
    "# finding the runtime for highest average popularity\n",
    "print('Movie runtime for highest average popularity is {} mins'.format(popularity_by_runtime.idxmax()))"
   ]
  },
  {
   "cell_type": "code",
   "execution_count": 202,
   "metadata": {
    "scrolled": true
   },
   "outputs": [
    {
     "name": "stdout",
     "output_type": "stream",
     "text": [
      "Average runtime for most popular movies 105.62537624982363 mins.\n"
     ]
    }
   ],
   "source": [
    "# Average runtime for most popular movies\n",
    "runtime_mean_highpop = high_pop['runtime'].mean()\n",
    "print('Average runtime for most popular movies {} mins.'.format(runtime_mean_highpop))"
   ]
  },
  {
   "cell_type": "markdown",
   "metadata": {},
   "source": [
    "> The movie runtime for the highest average popularity(considering full dataset) is 169.0 mins. According to the graph, we can conclude that runtime in between 100-200mins movies gets high popularity. When the runtime increases the popularity seems to decrease. <br/>\n",
    "\n",
    "> Average runtime for most popular movies 105.62537624982363 mins."
   ]
  },
  {
   "cell_type": "markdown",
   "metadata": {},
   "source": [
    "### Research Question 10 -  What is the trend of average runtime of movies from year to year?"
   ]
  },
  {
   "cell_type": "code",
   "execution_count": 203,
   "metadata": {
    "scrolled": true
   },
   "outputs": [
    {
     "data": {
      "image/png": "[encoded data removed]",
      "text/plain": [
       "<matplotlib.figure.Figure at 0x7f21a93f4dd8>"
      ]
     },
     "metadata": {
      "needs_background": "light"
     },
     "output_type": "display_data"
    }
   ],
   "source": [
    "# calculating and plotting the mean runtime of movies in each year\n",
    "runtime_mean = tmdb_df.groupby('release_year').runtime.mean()\n",
    "plot_line_graph(runtime_mean,'Average runtime of movie by year','Year','Average runtime');"
   ]
  },
  {
   "cell_type": "markdown",
   "metadata": {},
   "source": [
    "> According to the graph it seems average runtime of movies has decreased from 1960 to 2015."
   ]
  },
  {
   "cell_type": "markdown",
   "metadata": {},
   "source": [
    "### Research Question 11 - Which year has released the most number of movies?"
   ]
  },
  {
   "cell_type": "code",
   "execution_count": 204,
   "metadata": {},
   "outputs": [
    {
     "data": {
      "image/png": "[encoded data removed]",
      "text/plain": [
       "<matplotlib.figure.Figure at 0x7f21ad841470>"
      ]
     },
     "metadata": {
      "needs_background": "light"
     },
     "output_type": "display_data"
    }
   ],
   "source": [
    "# calculating and plotting the number of movies released in each year\n",
    "movie_count = tmdb_df['release_year'].value_counts()\n",
    "plot_line_graph(movie_count,'Total released movies in each year','Year','Total movie count');"
   ]
  },
  {
   "cell_type": "code",
   "execution_count": 205,
   "metadata": {
    "scrolled": true
   },
   "outputs": [
    {
     "name": "stdout",
     "output_type": "stream",
     "text": [
      "highest number of movies has released in 2014.\n"
     ]
    }
   ],
   "source": [
    "# finding the year that has release highest number of movies\n",
    "print('highest number of movies has released in {}.'.format(movie_count.idxmax()))"
   ]
  },
  {
   "cell_type": "markdown",
   "metadata": {},
   "source": [
    "> Year 2014 has released the highest number of movies. According to the graph, number of movies released in each year has significantly increased from 1960 to 2015."
   ]
  },
  {
   "cell_type": "markdown",
   "metadata": {},
   "source": [
    "### Research Question 12 -  What is the best month to release a movie?"
   ]
  },
  {
   "cell_type": "code",
   "execution_count": 206,
   "metadata": {},
   "outputs": [],
   "source": [
    "# Adding a new column to tmdb_df as release_month by extracting the month from the release date column \n",
    "tmdb_df['release_month'] = pd.DatetimeIndex(tmdb_df['release_date']).month"
   ]
  },
  {
   "cell_type": "code",
   "execution_count": 207,
   "metadata": {},
   "outputs": [],
   "source": [
    "# calculating the number of movies released in each month\n",
    "month_count = tmdb_df['release_month'].value_counts().sort_index()"
   ]
  },
  {
   "cell_type": "code",
   "execution_count": 208,
   "metadata": {},
   "outputs": [],
   "source": [
    "# this function plots a bar chart for values(given heights) with respect to months in the year\n",
    "def plot_graph_by_month(p,t,x,y):\n",
    "    '''\n",
    "    input\n",
    "    p = data series including heights of the bars\n",
    "    t = tilte of the graph\n",
    "    x = x-axis label\n",
    "    y = y-axis label\n",
    "    '''\n",
    "    locations = [1,2,3,4,5,6,7,8,9,10,11,12]\n",
    "    heights = [p[1],p[2],p[3],p[4],p[5],p[6],p[7],p[8],p[9],p[10],p[11],p[12]]\n",
    "    labels = ['Jan', 'Feb', 'Mar', 'Apr', 'May', 'Jun', 'Jul', 'Aug', 'Sep', 'Oct', 'Nov', 'Dec']\n",
    "    plt.bar(locations, heights, tick_label=labels)\n",
    "    plt.title(t)\n",
    "    plt.xlabel(x)\n",
    "    plt.ylabel(y);"
   ]
  },
  {
   "cell_type": "code",
   "execution_count": 209,
   "metadata": {},
   "outputs": [
    {
     "data": {
      "image/png": "[encoded data removed]",
      "text/plain": [
       "<matplotlib.figure.Figure at 0x7f21ad8ad2e8>"
      ]
     },
     "metadata": {
      "needs_background": "light"
     },
     "output_type": "display_data"
    }
   ],
   "source": [
    "# plotting the graph for number of movies released in each month\n",
    "plot_graph_by_month(month_count,'Number of movies released by month from 1960-2015','Month','Number of movies');"
   ]
  },
  {
   "cell_type": "markdown",
   "metadata": {},
   "source": [
    "> Most movies have released in the 'September' month. October and December months also have released considerable number of movies."
   ]
  },
  {
   "cell_type": "code",
   "execution_count": 210,
   "metadata": {},
   "outputs": [
    {
     "data": {
      "image/png": "[encoded data removed]",
      "text/plain": [
       "<matplotlib.figure.Figure at 0x7f21ad735eb8>"
      ]
     },
     "metadata": {
      "needs_background": "light"
     },
     "output_type": "display_data"
    }
   ],
   "source": [
    "# calculating and plotting the average popularity of movies released in each month\n",
    "popuplar_month = tmdb_df.groupby('release_month').popularity.mean()\n",
    "plot_graph_by_month(popuplar_month,'Average popularity of  movies by their released month','Month','Average popularity of movies');"
   ]
  },
  {
   "cell_type": "markdown",
   "metadata": {},
   "source": [
    "> According to the graph movies released in June has highest average popularity. Movies released in months May, July, November, and December also have received a high popularity."
   ]
  },
  {
   "cell_type": "code",
   "execution_count": 211,
   "metadata": {
    "scrolled": true
   },
   "outputs": [
    {
     "data": {
      "image/png": "[encoded data removed]",
      "text/plain": [
       "<matplotlib.figure.Figure at 0x7f21ac715ef0>"
      ]
     },
     "metadata": {
      "needs_background": "light"
     },
     "output_type": "display_data"
    }
   ],
   "source": [
    "# calculating and plotting the number of high revenue movies released in each month\n",
    "revenue_month = tmdb_df.groupby('release_month').revenue.mean()\n",
    "plot_graph_by_month(revenue_month,'Average revenue of  movies by their released month','Month','Average revenue of movies');"
   ]
  },
  {
   "cell_type": "markdown",
   "metadata": {},
   "source": [
    "> According to the graph movies release in 'June' has earned highest average revenue. Movies release in May, July, November and December also have recieved high average revenue compared to other months."
   ]
  },
  {
   "cell_type": "markdown",
   "metadata": {},
   "source": [
    "> By considering the above three graphs we can conclude that the best month to release a movie is 'June' if you are expecting to earn a high revenue and high popularity.  May, July, November, and December months also good months to release a movie to be successful."
   ]
  },
  {
   "cell_type": "markdown",
   "metadata": {},
   "source": [
    "<a id='conclusions'></a>\n",
    "## Conclusions\n",
    "\n",
    "> In the above project, we've analyzed the movie dataset with several perspectives. The initial dataset had 10866 rows and 21 columns. Observing the given dataset we've identified several issues and during the data wrangling process, we cleaned the dataset by executing several statistical methods, such as dropping unnecessary columns, correcting datatypes, removing duplicate rows, replacing zero values with their means and dropping null values. The final cleaned dataset included 10731 rows and 11 columns. Then the analysis was performed with the interest of finding the characteristics of a successful movie.\n",
    "\n",
    "> Based on the analysis we've found below results,\n",
    "    * The Avatar movie has earned the highest revenue and the Shattered Glass movie has earned the lowest revenue.\n",
    "    * The Jurassic World movie has got the highest popularity and the Hospital movie got the lowest popularity.\n",
    "    * Properties associated with high revenue movies are high popularity, high budget, and high vote count.\n",
    "    * Average revenue for the high revenue movies is 183767258.322 dollars. \n",
    "    * Average popularity value for the high revenue movies is 1.624.\n",
    "    * Average budget value for the high revenue movies is 52878810.486 dollars.\n",
    "    * Average vote count for the high revenue movies is 814.637\n",
    "    * There is no significant impact from movie runtime to movie revenue.\n",
    "    * Average runtime value for the high revenue movies is 112.658 mins\n",
    "    * By considering all findings related to genres, we can conclude that most used genres in every year are 'Drama', 'Comedy', 'Thriller', 'Action', 'Romance' and 'Horror'.  Least used genres are 'History', 'War','Foreign', 'Western','TV Movie'\n",
    "    * Most used genres in high revenue movies are: 'Drama', 'Comedy', 'Action', 'Thriller' and 'Adventure'\n",
    "    * Most used genres in most popular movies are: 'Drama', 'Comedy', 'Thriller', 'Action' and 'Adventure'\n",
    "    * Most used directors in high revenue movies are Steven Spielberg, Clint Eastwood, Ridley Scott, Ron Howard, and Tim Burton.\n",
    "    * Most used directors in most popular movies are  Woody Allen, Steven Spielberg, Clint Eastwood, Ridley Scott, and Ron Howard\n",
    "    * Most used casts in high revenue movies are Robert De Niro, Bruce Willis, Tom Cruise, Brad Pitt, and Tom Hanks\n",
    "    * Most used casts in most popular movies are Robert De Niro, Samuel L. Jackson, Bruce Willis, Nicolas Cage, and Tom Hanks\n",
    "    * In movie economy maximum average profit has earned in the year 1977 and the minimum was in 1968.\n",
    "    * When the movie runtime increases the popularity seems to decrease. \n",
    "    * Average runtime for most popular movies is 105.625 mins.\n",
    "    * Average runtime of movies has decreased from 1960 to 2015.\n",
    "    * Number of movies released each year has increased from 1960 to 2015. the highest number of movies have released in 2014.\n",
    "    * The highest number of movies have released in the 'September' month.\n",
    "    * Movies released in June have earned the highest average revenue and highest popularity.\n",
    "    * Movies released in May, July, November, and December months also have received high revenue and high popularity.\n",
    "\n",
    "> By considering all the above findings we can conclude that a movie to be successful(earn high revenue while being most popular) it should, \n",
    "    1. have an average 52878810.486 dollars budget\n",
    "    2. have movie runtime in between 105.625 - 112.658 mins.\n",
    "    3. use genres like: 'Drama', 'Comedy', 'Action', 'Thriller' and 'Adventure'\n",
    "    4. have directors like Steven Spielberg, Clint Eastwood, Ridley Scott, Ron Howard\n",
    "    5. have casts like Robert De Niro, Bruce Willis, Tom Hanks\n",
    "    6. released in June. If not, it should release either May or July or November or December.\n",
    " Then this movie will receive,\n",
    "    * 183767258.322 dollars revenue in average\n",
    "    * 814.637 vote count in average\n",
    "    * 1.624 popularity in average\n",
    "    > Some limitations associated with the dataset are, the unit of each column was not given in this dataset. especially for budget, revenue, runtime columns. So I have assumed currency is in dollars and runtime is in minutes. In this dataset budget column had 52% zero values and the revenue column had 55% of zero values. That means 50% of useful data was zero. So I replaced these zero values with column mean value. Having a considerable amount of zero values is a limitation and filling those values with mean value can lead to wrong decisions. This dataset also had a considerable amount of null values and dropping such rows also lead to missing valuable information. "
   ]
  },
  {
   "cell_type": "code",
   "execution_count": 213,
   "metadata": {},
   "outputs": [
    {
     "data": {
      "text/plain": [
       "0"
      ]
     },
     "execution_count": 213,
     "metadata": {},
     "output_type": "execute_result"
    }
   ],
   "source": [
    "from subprocess import call\n",
    "call(['python', '-m', 'nbconvert', 'Investigate_a_Dataset.ipynb'])"
   ]
  },
  {
   "cell_type": "code",
   "execution_count": null,
   "metadata": {},
   "outputs": [],
   "source": []
  }
 ],
 "metadata": {
  "kernelspec": {
   "display_name": "Python 3",
   "language": "python",
   "name": "python3"
  },
  "language_info": {
   "codemirror_mode": {
    "name": "ipython",
    "version": 3
   },
   "file_extension": ".py",
   "mimetype": "text/x-python",
   "name": "python",
   "nbconvert_exporter": "python",
   "pygments_lexer": "ipython3",
   "version": "3.6.3"
  }
 },
 "nbformat": 4,
 "nbformat_minor": 2
}
